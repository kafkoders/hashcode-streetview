{
  "nbformat": 4,
  "nbformat_minor": 0,
  "metadata": {
    "colab": {
      "name": "HashCodeStreetView.ipynb",
      "provenance": [],
      "collapsed_sections": []
    },
    "kernelspec": {
      "name": "python3",
      "display_name": "Python 3"
    },
    "accelerator": "TPU"
  },
  "cells": [
    {
      "cell_type": "markdown",
      "metadata": {
        "id": "ITwqusXydB5_",
        "colab_type": "text"
      },
      "source": [
        "@kafkoders Google HashCode 2014 Final Statement"
      ]
    },
    {
      "cell_type": "markdown",
      "metadata": {
        "id": "4_hviO29dT7F",
        "colab_type": "text"
      },
      "source": [
        "##Car\n",
        "Class representing a Street View Car"
      ]
    },
    {
      "cell_type": "code",
      "metadata": {
        "id": "p-OPOIacPRW9",
        "colab_type": "code",
        "colab": {}
      },
      "source": [
        "import pandas as pd\n",
        "import numpy as np\n",
        "import math\n",
        "import time\n",
        "import matplotlib.pyplot as plt\n",
        "import seaborn as sns"
      ],
      "execution_count": 0,
      "outputs": []
    },
    {
      "cell_type": "code",
      "metadata": {
        "id": "JN8-3Q2RdMic",
        "colab_type": "code",
        "colab": {}
      },
      "source": [
        "class Car:\n",
        "  def __init__(self, index_, time_, current_junction):\n",
        "    '''\n",
        "    index_ -> int\n",
        "    time_ -> int\n",
        "    current_junction -> int\n",
        "    '''\n",
        "    self.index_ = index_\n",
        "    self.time_ = time_\n",
        "    self.current_junction = current_junction\n",
        "    self.last_junction = None"
      ],
      "execution_count": 0,
      "outputs": []
    },
    {
      "cell_type": "code",
      "metadata": {
        "id": "VZDyx7PlcwrM",
        "colab_type": "code",
        "colab": {}
      },
      "source": [
        "class Junction:\n",
        "  def __init__(self, index_, longitude_, latitude_):\n",
        "    '''\n",
        "    index_ -> int\n",
        "    longitude_ -> float\n",
        "    latitude_ -> float\n",
        "    streets_ -> int[]\n",
        "    '''\n",
        "    self.index_ = index_\n",
        "    self.longitude_ = longitude_\n",
        "    self.latitude_ = latitude_\n",
        "    self.streets_ = []"
      ],
      "execution_count": 0,
      "outputs": []
    },
    {
      "cell_type": "code",
      "metadata": {
        "id": "CIVo6zrJOjr0",
        "colab_type": "code",
        "colab": {}
      },
      "source": [
        "class Street:\n",
        "  def __init__(self, index_, from_, to_, directions_, cost_, length_):\n",
        "    '''\n",
        "    index_ -> int\n",
        "    from_ -> int\n",
        "    to_ -> int\n",
        "    directions_ -> int[1,2]\n",
        "    cost_ -> int\n",
        "    length_ -> int\n",
        "    covered_ -> boolean\n",
        "    '''\n",
        "    self.index_ = index_\n",
        "    self.from_ = from_\n",
        "    self.to_ = to_\n",
        "    self.directions_ = directions_\n",
        "    self.cost_ = cost_\n",
        "    self.length_ = length_\n",
        "    self.covered_ = False"
      ],
      "execution_count": 0,
      "outputs": []
    },
    {
      "cell_type": "code",
      "metadata": {
        "id": "pl2KIdpSPYyU",
        "colab_type": "code",
        "colab": {}
      },
      "source": [
        "def create_graph_from_dataset(file_):\n",
        "  flag = False\n",
        "  num_streets = 0\n",
        "  street_counter = 0\n",
        "  num_junctions = 0\n",
        "  junction_counter = 0\n",
        "  time_ = 0\n",
        "  num_cars = 0\n",
        "  starting_node_index = 0\n",
        "  streets_ = []\n",
        "  junctions_ = []\n",
        "  cars_ = []\n",
        "\n",
        "  with open('/content/' + file_ + '.txt') as input_:\n",
        "    for line in input_:\n",
        "      if flag is False:\n",
        "        num_junctions, num_streets, time_, num_cars, starting_node_index = line.split(' ')\n",
        "        \n",
        "        flag = True\n",
        "      else:\n",
        "        if junction_counter < int(num_junctions):\n",
        "          #print(line)\n",
        "          longitude_, latitude_ = line.split(' ')\n",
        "          junctions_.append(Junction(junction_counter, float(longitude_), float(latitude_)))\n",
        "          junction_counter += 1\n",
        "        elif street_counter < int(num_streets):\n",
        "          #print(str(junction_counter) + \" | \" + num_junctions)\n",
        "          from_, to_, directions_, cost_, length_  = line.split(' ')\n",
        "          tmp_street = Street(street_counter, int(from_), int(to_), int(directions_), int(cost_), int(length_))\n",
        "          streets_.append(tmp_street)\n",
        "          junctions_[int(from_)].streets_.append(street_counter)\n",
        "          if int(directions_) == 2:\n",
        "            junctions_[int(to_)].streets_.append(street_counter)\n",
        "          street_counter += 1\n",
        "    for i in range(int(num_cars)):\n",
        "          cars_.append(Car(i, int(time_),int(starting_node_index)))\n",
        "\n",
        "  return junctions_, streets_, cars_, time_"
      ],
      "execution_count": 0,
      "outputs": []
    },
    {
      "cell_type": "code",
      "metadata": {
        "id": "RCI_gRFmV7kc",
        "colab_type": "code",
        "colab": {}
      },
      "source": [
        "def plot_graph(junctions_):\n",
        "  plt.title(\"Graph location\")\n",
        "  plt.xlabel(\"Longitude\")\n",
        "  plt.ylabel(\"Latitude\")\n",
        "  for junction_ in junctions_:\n",
        "    plt.scatter(junction_.longitude_, junction_.latitude_)\n",
        "  plt.show()"
      ],
      "execution_count": 0,
      "outputs": []
    },
    {
      "cell_type": "code",
      "metadata": {
        "id": "IJPB3eL4bjTq",
        "colab_type": "code",
        "colab": {}
      },
      "source": [
        "def get_best_street(car_, junction_streets, streets_):\n",
        "  '''\n",
        "  Algorthm that tries to retrieve the better option in order to maximize\n",
        "  the distance covered by a car.\n",
        "  '''\n",
        "  tmp_street_not = None\n",
        "  tmp_street_yes = None\n",
        "  for street_ in junction_streets:\n",
        "    if streets_[street_].covered_ is False and car_.time_ >= streets_[street_].cost_ and (tmp_street_not is None or tmp_street_not.length_ < streets_[street_].length_):\n",
        "      tmp_street_not = streets_[street_]\n",
        "    if streets_[street_].covered_ is True and car_.time_ >= streets_[street_].cost_ and \\\n",
        "    (tmp_street_yes is None or tmp_street_yes.cost_ > streets_[street_].cost_):\n",
        "      if streets_[street_].from_ == car_.current_junction and \\\n",
        "      streets_[street_].to_ != car_.last_junction:\n",
        "        tmp_street_yes = streets_[street_]\n",
        "      elif streets_[street_].to_ == car_.current_junction and \\\n",
        "      streets_[street_].from_ != car_.last_junction:\n",
        "        tmp_street_yes = streets_[street_]\n",
        "  if tmp_street_not is not None:\n",
        "    return tmp_street_not\n",
        "  elif tmp_street_yes is not None:\n",
        "    return tmp_street_yes\n",
        "  else:\n",
        "    for street_ in junction_streets:\n",
        "      if streets_[street_].covered_ is True and car_.time_ >= streets_[street_].cost_ and \\\n",
        "      (tmp_street_yes is None or tmp_street_yes.cost_ > streets_[street_].cost_):\n",
        "        tmp_street_yes = streets_[street_]\n",
        "    return tmp_street_yes\n"
      ],
      "execution_count": 0,
      "outputs": []
    },
    {
      "cell_type": "code",
      "metadata": {
        "id": "EbNEaldIbE4Z",
        "colab_type": "code",
        "colab": {}
      },
      "source": [
        "def move_car(car_, street_, junction_):\n",
        "  car_.last_junction = car_.current_junction\n",
        "  if car_.current_junction == street_.from_:\n",
        "    car_.current_junction = street_.to_\n",
        "    car_.time_ -= street_.cost_\n",
        "  else:\n",
        "    car_.current_junction = street_.from_\n",
        "    car_.time_ -= street_.cost_\n",
        "  return car_"
      ],
      "execution_count": 0,
      "outputs": []
    },
    {
      "cell_type": "code",
      "metadata": {
        "id": "aXXq8lLCYHym",
        "colab_type": "code",
        "colab": {}
      },
      "source": [
        "def move_fleet(cars_, junctions_, streets_, distance_):\n",
        "  end_ = True\n",
        "  for car_ in cars_:\n",
        "    best_street = get_best_street(car_, junctions_[car_.current_junction].streets_, streets_)\n",
        "    if best_street is not None:\n",
        "      end_ = False\n",
        "      tmp_car = move_car(car_, best_street, car_.current_junction)\n",
        "      cars_.pop(tmp_car.index_)\n",
        "      cars_.insert(tmp_car.index_, tmp_car)\n",
        "      if best_street.covered_ is not True:\n",
        "        streets_[best_street.index_].covered_ = True\n",
        "        distance_ += best_street.length_\n",
        "  return end_, cars_, streets_, distance_"
      ],
      "execution_count": 0,
      "outputs": []
    },
    {
      "cell_type": "code",
      "metadata": {
        "id": "ZuUYa1V-Rko6",
        "colab_type": "code",
        "colab": {
          "base_uri": "https://localhost:8080/",
          "height": 34
        },
        "outputId": "f373e0c0-9df1-4117-f617-16c40fd3d905"
      },
      "source": [
        "if __name__ == '__main__':\n",
        "  junctions_, streets_, cars_, time_ = create_graph_from_dataset('street_view.in')\n",
        "  print(\"Data loaded\")\n",
        "  distance_ = 0"
      ],
      "execution_count": 10,
      "outputs": [
        {
          "output_type": "stream",
          "text": [
            "Data loaded\n"
          ],
          "name": "stdout"
        }
      ]
    },
    {
      "cell_type": "code",
      "metadata": {
        "id": "-581cAUFWgsh",
        "colab_type": "code",
        "colab": {
          "base_uri": "https://localhost:8080/",
          "height": 187
        },
        "outputId": "1680a840-9570-4f92-d73e-0cb9fecf00fd"
      },
      "source": [
        "  iteration_ = 0\n",
        "  while(True):\n",
        "    exit_, cars_, streets_, distance_ = move_fleet(cars_, junctions_, streets_, distance_)\n",
        "    iteration_ += 1\n",
        "    if exit_ is True:\n",
        "      max_distance = 0\n",
        "      for street_ in streets_:\n",
        "        max_distance += street_.length_\n",
        "      print(\"Total distance covered: \" + str(distance_) + \" of: \" + str(max_distance) + \" | Number of iterations: \" + str(iteration_))\n",
        "      print(\"Remaining time and final position for each car\")\n",
        "      for car_ in cars_:\n",
        "        print(\"Car number: \" + str(car_.index_) + \" | longitude: \" + str(junctions_[car_.current_junction].longitude_) + \"\\t\\tlatitude: \" + str(junctions_[car_.current_junction].latitude_) + \" and index: \" + str(car_.current_junction))\n",
        "      break"
      ],
      "execution_count": 11,
      "outputs": [
        {
          "output_type": "stream",
          "text": [
            "Total distance covered: 209769 of: 1967444 | Number of iterations: 32327\n",
            "Remaining time and final position for each car\n",
            "Car number: 0 | longitude: 48.874786\t\tlatitude: 2.3284404000000003 and index: 8363\n",
            "Car number: 1 | longitude: 48.874692100000004\t\tlatitude: 2.3286390000000003 and index: 5518\n",
            "Car number: 2 | longitude: 48.828772400000005\t\tlatitude: 2.3427007 and index: 5392\n",
            "Car number: 3 | longitude: 48.8746367\t\tlatitude: 2.3284279000000003 and index: 7148\n",
            "Car number: 4 | longitude: 48.8746367\t\tlatitude: 2.3284279000000003 and index: 7148\n",
            "Car number: 5 | longitude: 48.8698032\t\tlatitude: 2.3223839 and index: 6125\n",
            "Car number: 6 | longitude: 48.874692100000004\t\tlatitude: 2.3286390000000003 and index: 5518\n",
            "Car number: 7 | longitude: 48.874692100000004\t\tlatitude: 2.3286390000000003 and index: 5518\n"
          ],
          "name": "stdout"
        }
      ]
    },
    {
      "cell_type": "code",
      "metadata": {
        "id": "NPjoW7h0XcXO",
        "colab_type": "code",
        "colab": {}
      },
      "source": [
        ""
      ],
      "execution_count": 0,
      "outputs": []
    }
  ]
}