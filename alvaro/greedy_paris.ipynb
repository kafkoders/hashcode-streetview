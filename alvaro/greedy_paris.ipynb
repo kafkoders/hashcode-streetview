{
 "cells": [
  {
   "cell_type": "code",
   "execution_count": 16,
   "metadata": {},
   "outputs": [],
   "source": [
    "class City(object):\n",
    "    def __init__(self, junctions, streets):\n",
    "        self.junctions = junctions\n",
    "        self.streets = streets"
   ]
  },
  {
   "cell_type": "code",
   "execution_count": 17,
   "metadata": {},
   "outputs": [],
   "source": [
    "class Junction(object):\n",
    "    def __init__(self, id_, lat, long):\n",
    "        self.id_ = id_\n",
    "        self.lat = lat\n",
    "        self.long = long\n",
    "        self.streets = list()"
   ]
  },
  {
   "cell_type": "code",
   "execution_count": 18,
   "metadata": {},
   "outputs": [],
   "source": [
    "class Street(object):\n",
    "    def __init__(self, from_, to_, bidir, seconds, length):\n",
    "        self.from_ = from_\n",
    "        self.to_ = to_\n",
    "        self.bidir = bidir\n",
    "        self.seconds = seconds\n",
    "        self.length = length\n",
    "        self.visited = False"
   ]
  },
  {
   "cell_type": "code",
   "execution_count": 19,
   "metadata": {},
   "outputs": [],
   "source": [
    "class Car(object):\n",
    "    def __init__(self, id_, position):\n",
    "        self.id_ = id_\n",
    "        self.position = position"
   ]
  },
  {
   "cell_type": "code",
   "execution_count": 20,
   "metadata": {},
   "outputs": [],
   "source": [
    "class Fleet(object):\n",
    "    def __init__(self, cars):\n",
    "        self.cars = cars"
   ]
  },
  {
   "cell_type": "code",
   "execution_count": 50,
   "metadata": {},
   "outputs": [],
   "source": [
    "with open('input/paris_54000.txt') as test:\n",
    "    lines = test.readlines()\n",
    "    junctions, streets, secs, cars, starting = lines[0].replace('\\n', '').split(' ')\n",
    "    junctions = int(junctions)\n",
    "    streets = int(streets)\n",
    "    secs = int(secs)\n",
    "    cars = int(cars)\n",
    "    starting = int(starting)\n",
    "    index = 1\n",
    "    junction_objs = list()\n",
    "    for junction_id in range(junctions):\n",
    "        lat, long = lines[index].replace('\\n', '').split(' ')\n",
    "        lat = float(lat)\n",
    "        long = float(long)\n",
    "        junction = Junction(junction_id, lat, long)\n",
    "        junction_objs.append(junction)\n",
    "        index += 1\n",
    "    street_objs = list()\n",
    "    for _ in range(streets):\n",
    "        from_, to_, bidir, seconds, length = lines[index].replace('\\n', '').split(' ')\n",
    "        from_ = int(from_)\n",
    "        to_ = int(to_)\n",
    "        bidir = True if int(bidir) == 2 else False\n",
    "        seconds = int(seconds)\n",
    "        length = int(length)\n",
    "        street = Street(from_, to_, bidir, seconds, length)\n",
    "        street_objs.append(street)\n",
    "        for junction_obj in junction_objs:\n",
    "            if bidir is True:\n",
    "                if junction_obj.id_ == from_:\n",
    "                    junction_obj.streets.append(street)\n",
    "                if junction_obj.id_ == to_:\n",
    "                    junction_obj.streets.append(street)\n",
    "            else:\n",
    "                if junction_obj.id_ == from_:\n",
    "                    junction_obj.streets.append(street)\n",
    "                \n",
    "        index += 1\n",
    "    city = City(junction_objs, street_objs)"
   ]
  },
  {
   "cell_type": "code",
   "execution_count": 51,
   "metadata": {},
   "outputs": [],
   "source": [
    "def calculate_total_distance():\n",
    "    total_length = 0\n",
    "    for street in city.streets:\n",
    "        total_length += street.length\n",
    "    return total_length"
   ]
  },
  {
   "cell_type": "code",
   "execution_count": 52,
   "metadata": {},
   "outputs": [],
   "source": [
    "total_length = calculate_total_distance()"
   ]
  },
  {
   "cell_type": "code",
   "execution_count": 53,
   "metadata": {},
   "outputs": [
    {
     "data": {
      "text/plain": [
       "1967444"
      ]
     },
     "execution_count": 53,
     "metadata": {},
     "output_type": "execute_result"
    }
   ],
   "source": [
    "total_length"
   ]
  },
  {
   "cell_type": "code",
   "execution_count": 80,
   "metadata": {},
   "outputs": [],
   "source": [
    "import copy\n",
    "\n",
    "cuty = copy.deepcopy(city)"
   ]
  },
  {
   "cell_type": "code",
   "execution_count": 81,
   "metadata": {},
   "outputs": [
    {
     "data": {
      "text/plain": [
       "<__main__.City at 0x10e67a748>"
      ]
     },
     "execution_count": 81,
     "metadata": {},
     "output_type": "execute_result"
    }
   ],
   "source": [
    "cuty"
   ]
  },
  {
   "cell_type": "code",
   "execution_count": 82,
   "metadata": {},
   "outputs": [],
   "source": [
    "seconds = 54000"
   ]
  },
  {
   "cell_type": "code",
   "execution_count": 83,
   "metadata": {},
   "outputs": [],
   "source": [
    "from random import choice"
   ]
  },
  {
   "cell_type": "code",
   "execution_count": 84,
   "metadata": {},
   "outputs": [],
   "source": [
    "def find_path(car_id, starting_junction):\n",
    "    path = list()\n",
    "    \n",
    "    res = None\n",
    "    \n",
    "    for junction in cuty.junctions:\n",
    "        if junction.id_ == starting_junction:\n",
    "            res = junction\n",
    "            break\n",
    "            \n",
    "    total_seconds = 0\n",
    "    flag = False\n",
    "    \n",
    "    curr_seconds = 0\n",
    "    total_distance = 0\n",
    "    \n",
    "    while flag is False:\n",
    "        random_street = True\n",
    "        curr_street = None\n",
    "        available_streets = list()\n",
    "        \n",
    "        for street in res.streets:\n",
    "            if street.visited is False:\n",
    "                random_street = False\n",
    "                available_streets.append(street)  \n",
    "        \n",
    "        if random_street is True:\n",
    "            curr_street = choice(res.streets)\n",
    "            check_time = curr_street.seconds + curr_seconds\n",
    "            if check_time > 54000:\n",
    "                flag = True\n",
    "                break\n",
    "            curr_street.visited = True\n",
    "        else:\n",
    "            curr_street = choice(available_streets)\n",
    "            check_time = curr_street.seconds + curr_seconds\n",
    "            if check_time > 54000:\n",
    "                flag = True\n",
    "                break\n",
    "            curr_street.visited = True\n",
    "            total_distance += curr_street.length\n",
    "            \n",
    "        if curr_street.bidir is True:\n",
    "            if curr_street.from_ == res.id_:\n",
    "                for junction in cuty.junctions:\n",
    "                    if junction.id_ == curr_street.to_:\n",
    "                        res = junction\n",
    "                        break\n",
    "            elif curr_street.to_ == res.id_:\n",
    "                for junction in cuty.junctions:\n",
    "                    if junction.id_ == curr_street.from_:\n",
    "                        res = junction\n",
    "                        break\n",
    "        else:\n",
    "            for junction in cuty.junctions:\n",
    "                if junction.id_ == curr_street.to_:\n",
    "                    res = junction\n",
    "                    break\n",
    "                    \n",
    "        curr_seconds += curr_street.seconds\n",
    "                    \n",
    "        # print(f\"Car {car_id} moving from {curr_street.from_} to {curr_street.to_}.\")\n",
    "        \n",
    "    print(f\"Total distance traveled by Car {car_id}: {total_distance}\")\n",
    "    return total_distance"
   ]
  },
  {
   "cell_type": "code",
   "execution_count": 85,
   "metadata": {},
   "outputs": [
    {
     "name": "stdout",
     "output_type": "stream",
     "text": [
      "Total distance traveled by Car 1: 301078\n",
      "Total distance traveled by Car 2: 211643\n",
      "Total distance traveled by Car 3: 124371\n",
      "Total distance traveled by Car 4: 148406\n",
      "Total distance traveled by Car 5: 154505\n",
      "Total distance traveled by Car 6: 80722\n",
      "Total distance traveled by Car 7: 65400\n",
      "Total distance traveled by Car 8: 92295\n",
      "1178420\n"
     ]
    }
   ],
   "source": [
    "final_res = 0\n",
    "\n",
    "for car_id in range(1, cars + 1):\n",
    "    total_dist = find_path(car_id, 4516)\n",
    "    final_res += total_dist\n",
    "    \n",
    "print(final_res)"
   ]
  }
 ],
 "metadata": {
  "kernelspec": {
   "display_name": "Python 3",
   "language": "python",
   "name": "python3"
  },
  "language_info": {
   "codemirror_mode": {
    "name": "ipython",
    "version": 3
   },
   "file_extension": ".py",
   "mimetype": "text/x-python",
   "name": "python",
   "nbconvert_exporter": "python",
   "pygments_lexer": "ipython3",
   "version": "3.7.0"
  }
 },
 "nbformat": 4,
 "nbformat_minor": 2
}
