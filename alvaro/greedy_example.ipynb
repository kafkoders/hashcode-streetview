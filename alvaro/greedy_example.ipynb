{
 "cells": [
  {
   "cell_type": "code",
   "execution_count": 77,
   "metadata": {},
   "outputs": [],
   "source": [
    "class City(object):\n",
    "    def __init__(self, junctions, streets):\n",
    "        self.junctions = junctions\n",
    "        self.streets = streets"
   ]
  },
  {
   "cell_type": "code",
   "execution_count": 78,
   "metadata": {},
   "outputs": [],
   "source": [
    "class Junction(object):\n",
    "    def __init__(self, id_, lat, long):\n",
    "        self.id_ = id_\n",
    "        self.lat = lat\n",
    "        self.long = long"
   ]
  },
  {
   "cell_type": "code",
   "execution_count": 79,
   "metadata": {},
   "outputs": [],
   "source": [
    "class Street(object):\n",
    "    def __init__(self, from_, to_, bidir, seconds, length):\n",
    "        self.from_ = from_\n",
    "        self.to_ = to_\n",
    "        self.bidir = bidir\n",
    "        self.seconds = seconds\n",
    "        self.length = length\n",
    "        self.visited = False"
   ]
  },
  {
   "cell_type": "code",
   "execution_count": 80,
   "metadata": {},
   "outputs": [],
   "source": [
    "junctions = 3\n",
    "streets = 2\n",
    "seconds = 3000\n",
    "cars = 2\n",
    "starting = 0"
   ]
  },
  {
   "cell_type": "code",
   "execution_count": 81,
   "metadata": {},
   "outputs": [],
   "source": [
    "junctions = list()\n",
    "\n",
    "junctions.append(Junction(0, 48.8582, 2.22945))\n",
    "junctions.append(Junction(1, 50.0, 3.09))\n",
    "junctions.append(Junction(2, 51.424242, 3.02))"
   ]
  },
  {
   "cell_type": "code",
   "execution_count": 82,
   "metadata": {},
   "outputs": [],
   "source": [
    "streets = list()\n",
    "\n",
    "streets.append(Street(0, 1, 1, 30, 250))\n",
    "streets.append(Street(1, 2, 2, 45, 200))"
   ]
  },
  {
   "cell_type": "code",
   "execution_count": 83,
   "metadata": {},
   "outputs": [],
   "source": [
    "city = City(junctions, streets)"
   ]
  },
  {
   "cell_type": "code",
   "execution_count": 84,
   "metadata": {},
   "outputs": [],
   "source": [
    "class Car(object):\n",
    "    def __init__(self, id_, position):\n",
    "        self.id_ = id_\n",
    "        self.position = position"
   ]
  },
  {
   "cell_type": "code",
   "execution_count": 85,
   "metadata": {},
   "outputs": [],
   "source": [
    "class Fleet(object):\n",
    "    def __init__(self, cars):\n",
    "        self.cars = cars"
   ]
  },
  {
   "cell_type": "code",
   "execution_count": 86,
   "metadata": {},
   "outputs": [],
   "source": [
    "car_objs = list()\n",
    "\n",
    "for car in range(cars):\n",
    "    car_objs.append(Car(car, starting))\n",
    "\n",
    "fleet = Fleet(car_objs)    "
   ]
  },
  {
   "cell_type": "code",
   "execution_count": 87,
   "metadata": {},
   "outputs": [],
   "source": [
    "def calculate_total_distance():\n",
    "    total_length = 0\n",
    "    for street in city.streets:\n",
    "        total_length += street.length\n",
    "    return total_length"
   ]
  },
  {
   "cell_type": "code",
   "execution_count": 88,
   "metadata": {},
   "outputs": [],
   "source": [
    "total_length = calculate_total_distance()"
   ]
  },
  {
   "cell_type": "code",
   "execution_count": 89,
   "metadata": {},
   "outputs": [
    {
     "data": {
      "text/plain": [
       "450"
      ]
     },
     "execution_count": 89,
     "metadata": {},
     "output_type": "execute_result"
    }
   ],
   "source": [
    "total_length"
   ]
  },
  {
   "cell_type": "code",
   "execution_count": 90,
   "metadata": {},
   "outputs": [],
   "source": [
    "def streets_from_junction(pos):\n",
    "    streets = list()\n",
    "    \n",
    "    for street in city.streets:\n",
    "        if street.bidir is True:\n",
    "            if street.from_ == pos or street.to_ == pos:\n",
    "                streets.append(street)\n",
    "        else:\n",
    "            if street.from_ == pos:\n",
    "                streets.append(street)\n",
    "\n",
    "    return streets"
   ]
  },
  {
   "cell_type": "code",
   "execution_count": 91,
   "metadata": {},
   "outputs": [],
   "source": [
    "def non_visited_streets():\n",
    "    non_streets = list()\n",
    "    \n",
    "    for street in city.streets:\n",
    "        if street.visited is False:\n",
    "            non_streets.append(street)\n",
    "    \n",
    "    return non_streets"
   ]
  },
  {
   "cell_type": "code",
   "execution_count": 92,
   "metadata": {},
   "outputs": [],
   "source": [
    "def move_car(car, street):\n",
    "    car.position = street.to_\n",
    "    street.visited = True"
   ]
  },
  {
   "cell_type": "code",
   "execution_count": 93,
   "metadata": {},
   "outputs": [
    {
     "name": "stdout",
     "output_type": "stream",
     "text": [
      "Moving CAR 0 from 0 to 1\n",
      "Moving CAR 0 from 1 to 2\n",
      "Total distance is 450 and visited distance is 450\n"
     ]
    }
   ],
   "source": [
    "flag = True\n",
    "visited_length = 0\n",
    "\n",
    "while flag is True:\n",
    "    flag = False\n",
    "    for car in fleet.cars:\n",
    "        streets = streets_from_junction(car.position)\n",
    "        for street in streets:\n",
    "            if street.visited is False:\n",
    "                visited_length += street.length\n",
    "                print(f'Moving CAR {car.id_} from {street.from_} to {street.to_}')\n",
    "                move_car(car, street)\n",
    "                non_streets = non_visited_streets()\n",
    "                flag = True\n",
    "                break\n",
    "print(f'Total distance is {total_length} and visited distance is {visited_length}')"
   ]
  },
  {
   "cell_type": "code",
   "execution_count": 17,
   "metadata": {},
   "outputs": [],
   "source": [
    "\"\"\"\n",
    "with open('input/paris_54000.txt') as test:\n",
    "    lines = test.readlines()\n",
    "    junctions, streets, seconds, cars, starting = lines[0].replace('\\n', '').split(' ')\n",
    "    junctions = int(junctions)\n",
    "    streets = int(streets)\n",
    "    time = int(time)\n",
    "    cars = int(cars)\n",
    "    starting = int(starting)\n",
    "    index = 1\n",
    "    junction_objs = list()\n",
    "    for junction_id in range(junctions):\n",
    "        lat, long = lines[index].replace('\\n', '').split(' ')\n",
    "        lat = float(lat)\n",
    "        long = float(long)\n",
    "        junction = Junction(junction_id, lat, long)\n",
    "        junction_objs.append(junction)\n",
    "        index += 1\n",
    "    street_objs = list()\n",
    "    for _ in range(streets):\n",
    "        from_, to_, bidir, seconds, length = lines[index].replace('\\n', '').split(' ')\n",
    "        from_ = int(from_)\n",
    "        to_ = int(to_)\n",
    "        bidir = True if int(bidir) == 2 else False\n",
    "        time = int(time)\n",
    "        length = int(length)\n",
    "        street = Street(from_, to_, bidir, seconds, length)\n",
    "        street_objs.append(street)\n",
    "    city = City(junction_objs, street_objs)\n",
    "\"\"\";"
   ]
  }
 ],
 "metadata": {
  "kernelspec": {
   "display_name": "Python 3",
   "language": "python",
   "name": "python3"
  },
  "language_info": {
   "codemirror_mode": {
    "name": "ipython",
    "version": 3
   },
   "file_extension": ".py",
   "mimetype": "text/x-python",
   "name": "python",
   "nbconvert_exporter": "python",
   "pygments_lexer": "ipython3",
   "version": "3.7.0"
  }
 },
 "nbformat": 4,
 "nbformat_minor": 2
}
